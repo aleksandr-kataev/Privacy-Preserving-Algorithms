{
 "metadata": {
  "language_info": {
   "codemirror_mode": {
    "name": "ipython",
    "version": 3
   },
   "file_extension": ".py",
   "mimetype": "text/x-python",
   "name": "python",
   "nbconvert_exporter": "python",
   "pygments_lexer": "ipython3",
   "version": "3.9.0"
  },
  "orig_nbformat": 2,
  "kernelspec": {
   "name": "python390jvsc74a57bd0bc5dc8a61316c4e306f1861df49ec06cefb9d704bc8e197ae2972422264b7e37",
   "display_name": "Python 3.9.0 64-bit"
  }
 },
 "nbformat": 4,
 "nbformat_minor": 2,
 "cells": [
  {
   "cell_type": "code",
   "execution_count": 1,
   "metadata": {},
   "outputs": [],
   "source": [
    "from test2 import test2"
   ]
  },
  {
   "cell_type": "code",
   "execution_count": 2,
   "metadata": {},
   "outputs": [
    {
     "output_type": "stream",
     "name": "stdout",
     "text": [
      "Original wage query  25\nWage average  24.9455\nWage percentage  -0.218\n-------------------\nOriginal age query  128\nAge average  127.9263\nAge percentage  -0.0576\n-------------------\nOriginal mean age query  37.39\nMean age average  37.3743\nMean age percentage  -0.0421\n-------------------\nOriginal insured query  118\nInsured average  118.0895\nInsured percentage  0.0759\n-------------------\nOriginal heart query  41\nHeart average  41.0912\nHeart average percentage  0.2224\n-------------------\nOriginal dental query  50\nDental average  49.9776\nDental average percentage  -0.0448\n-------------------\nOriginal mental query  46\nMental average  45.9189\nMental average percentage  -0.1763\n-------------------\nOriginal breathing query  63\nBreathing average  63.1526\nBreathing average percentage  0.2423\n-------------------\nOriginal combined query  105\nCombined query average  104.6287\nCombined query average percentage  -0.3536\n"
     ]
    }
   ],
   "source": [
    "test2(dataset_path='../../datasets/small_dataset.csv', mech_type='laplace', epsilon=1, num_of_runs=100)"
   ]
  },
  {
   "cell_type": "code",
   "execution_count": 3,
   "metadata": {},
   "outputs": [
    {
     "output_type": "stream",
     "name": "stdout",
     "text": [
      "Original wage query  25\nWage average  25.0877\nWage percentage  0.3508\n-------------------\nOriginal age query  128\nAge average  127.9113\nAge percentage  -0.0693\n-------------------\nOriginal mean age query  37.39\nMean age average  37.3294\nMean age percentage  -0.1619\n-------------------\nOriginal insured query  118\nInsured average  117.6849\nInsured percentage  -0.267\n-------------------\nOriginal heart query  41\nHeart average  41.2293\nHeart average percentage  0.5593\n-------------------\nOriginal dental query  50\nDental average  49.6973\nDental average percentage  -0.6053\n-------------------\nOriginal mental query  46\nMental average  45.8309\nMental average percentage  -0.3676\n-------------------\nOriginal breathing query  63\nBreathing average  62.939\nBreathing average percentage  -0.0969\n-------------------\nOriginal combined query  105\nCombined query average  105.0802\nCombined query average percentage  0.0764\n"
     ]
    }
   ],
   "source": [
    "test2(dataset_path='../../datasets/small_dataset.csv', mech_type='gaussian', epsilon=1, num_of_runs=100)"
   ]
  },
  {
   "cell_type": "code",
   "execution_count": 4,
   "metadata": {},
   "outputs": [
    {
     "output_type": "stream",
     "name": "stdout",
     "text": [
      "Original wage query  274\nWage average  273.9437\nWage percentage  -0.0205\n-------------------\nOriginal age query  659\nAge average  659.1593\nAge percentage  0.0242\n-------------------\nOriginal mean age query  38.02\nMean age average  38.0246\nMean age percentage  0.012\n-------------------\nOriginal insured query  516\nInsured average  515.6922\nInsured percentage  -0.0596\n-------------------\nOriginal heart query  246\nHeart average  246.0882\nHeart average percentage  0.0359\n-------------------\nOriginal dental query  250\nDental average  249.8446\nDental average percentage  -0.0622\n-------------------\nOriginal mental query  250\nMental average  249.9874\nMental average percentage  -0.005\n-------------------\nOriginal breathing query  254\nBreathing average  254.1509\nBreathing average percentage  0.0594\n-------------------\nOriginal combined query  366\nCombined query average  365.9804\nCombined query average percentage  -0.0054\n"
     ]
    }
   ],
   "source": [
    "test2(dataset_path='../../datasets/large_dataset.csv', mech_type='laplace', epsilon=1, num_of_runs=100)"
   ]
  },
  {
   "cell_type": "code",
   "execution_count": 5,
   "metadata": {},
   "outputs": [
    {
     "output_type": "stream",
     "name": "stdout",
     "text": [
      "Original wage query  274\nWage average  274.19\nWage percentage  0.0693\n-------------------\nOriginal age query  659\nAge average  659.1734\nAge percentage  0.0263\n-------------------\nOriginal mean age query  38.02\nMean age average  38.0083\nMean age percentage  -0.0308\n-------------------\nOriginal insured query  516\nInsured average  515.913\nInsured percentage  -0.0169\n-------------------\nOriginal heart query  246\nHeart average  246.1722\nHeart average percentage  0.07\n-------------------\nOriginal dental query  250\nDental average  250.1144\nDental average percentage  0.0458\n-------------------\nOriginal mental query  250\nMental average  249.9003\nMental average percentage  -0.0399\n-------------------\nOriginal breathing query  254\nBreathing average  254.4379\nBreathing average percentage  0.1724\n-------------------\nOriginal combined query  366\nCombined query average  365.2864\nCombined query average percentage  -0.195\n"
     ]
    }
   ],
   "source": [
    "test2(dataset_path='../../datasets/large_dataset.csv', mech_type='gaussian', epsilon=1, num_of_runs=100)"
   ]
  }
 ]
}