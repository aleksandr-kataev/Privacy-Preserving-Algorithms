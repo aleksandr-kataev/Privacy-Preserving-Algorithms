{
 "metadata": {
  "language_info": {
   "codemirror_mode": {
    "name": "ipython",
    "version": 3
   },
   "file_extension": ".py",
   "mimetype": "text/x-python",
   "name": "python",
   "nbconvert_exporter": "python",
   "pygments_lexer": "ipython3",
   "version": "3.9.0"
  },
  "orig_nbformat": 2,
  "kernelspec": {
   "name": "python390jvsc74a57bd0bc5dc8a61316c4e306f1861df49ec06cefb9d704bc8e197ae2972422264b7e37",
   "display_name": "Python 3.9.0 64-bit"
  }
 },
 "nbformat": 4,
 "nbformat_minor": 2,
 "cells": [
  {
   "cell_type": "code",
   "execution_count": null,
   "metadata": {},
   "outputs": [],
   "source": [
    "import pandas as pd\r\n",
    "from crowds.kanonymity import ola\r\n",
    "from crowds.kanonymity.information_loss import dm_star_loss\r\n",
    "from crowds.kanonymity.generalizations import GenRule\r\n",
    "from crowds.kanonymity import information_loss\r\n"
   ]
  },
  {
   "cell_type": "code",
   "execution_count": null,
   "metadata": {},
   "outputs": [],
   "source": [
    "def generalize_age(value):\n",
    "\tif value >= 10 and value < 21:\n",
    "\t\treturn '10-20'\n",
    "\tif value >= 21 and value < 31:\n",
    "\t\treturn '21-30'\n",
    "\tif value >= 31 and value < 41:\n",
    "\t\treturn '31-40'\n",
    "\tif value >= 41 and value < 51:\n",
    "\t\treturn '41-50'\n",
    "\tif value >= 51 and value < 60:\n",
    "\t\treturn '51-59'\n",
    "\t\n",
    "def generalize_wage(value):\n",
    "\tif value >= 6 and value < 10:\n",
    "\t\treturn '6-9'\n",
    "\tif value >= 10 and value < 15:\n",
    "\t\treturn '10-14'\n",
    "\tif value >= 15 and value <= 20:\n",
    "\t\treturn '15-20'"
   ]
  },
  {
   "cell_type": "code",
   "execution_count": null,
   "metadata": {},
   "outputs": [],
   "source": [
    "generalization_rules = {\n",
    "\t'wage': GenRule([generalize_wage]),\n",
    "    'age': GenRule([generalize_age]), # 2-levels generalization\n",
    "\t'name': GenRule([])\n",
    "}"
   ]
  },
  {
   "cell_type": "code",
   "execution_count": null,
   "metadata": {},
   "outputs": [],
   "source": [
    "adult = pd.read_csv('healthdata.csv')\n",
    "test = ola.anonymize(adult, generalization_rules=generalization_rules, k=10, max_sup=0.5, info_loss=dm_star_loss)\n",
    "print(test)\n",
    "#test_df = pd.DataFrame(test[0])"
   ]
  }
 ]
}