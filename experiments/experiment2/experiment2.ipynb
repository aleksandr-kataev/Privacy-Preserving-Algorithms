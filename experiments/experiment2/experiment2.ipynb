{
 "metadata": {
  "language_info": {
   "codemirror_mode": {
    "name": "ipython",
    "version": 3
   },
   "file_extension": ".py",
   "mimetype": "text/x-python",
   "name": "python",
   "nbconvert_exporter": "python",
   "pygments_lexer": "ipython3",
   "version": "3.9.0"
  },
  "orig_nbformat": 2,
  "kernelspec": {
   "name": "python390jvsc74a57bd0bc5dc8a61316c4e306f1861df49ec06cefb9d704bc8e197ae2972422264b7e37",
   "display_name": "Python 3.9.0 64-bit"
  }
 },
 "nbformat": 4,
 "nbformat_minor": 2,
 "cells": [
  {
   "cell_type": "code",
   "execution_count": 1,
   "metadata": {},
   "outputs": [],
   "source": [
    "from experiment2 import experiment2"
   ]
  },
  {
   "cell_type": "code",
   "execution_count": 2,
   "metadata": {},
   "outputs": [
    {
     "output_type": "stream",
     "name": "stdout",
     "text": [
      "Original wage query  25\nWage average  24.9736\nWage percentage  -0.1055\n-------------------\nOriginal age query  128\nAge average  128.1057\nAge percentage  0.0826\n-------------------\nOriginal mean age query  37.39\nMean age average  37.3827\nMean age percentage  -0.0195\n-------------------\nOriginal insured query  118\nInsured average  118.0828\nInsured percentage  0.0702\n-------------------\nOriginal heart query  41\nHeart average  41.0022\nHeart average percentage  0.0054\n-------------------\nOriginal dental query  50\nDental average  50.0021\nDental average percentage  0.0042\n-------------------\nOriginal mental query  46\nMental average  45.9998\nMental average percentage  -0.0005\n-------------------\nOriginal breathing query  63\nBreathing average  63.0202\nBreathing average percentage  0.0321\n-------------------\nOriginal combined query  105\nCombined query average  105.1884\nCombined query average percentage  0.1794\n"
     ]
    }
   ],
   "source": [
    "experiment2(dataset_path='../../datasets/small_dataset.csv', mech_type='laplace', epsilon=1, num_of_runs=100)"
   ]
  },
  {
   "cell_type": "code",
   "execution_count": 3,
   "metadata": {},
   "outputs": [
    {
     "output_type": "stream",
     "name": "stdout",
     "text": [
      "Original wage query  25\nWage average  24.6389\nWage percentage  -1.4446\n-------------------\nOriginal age query  128\nAge average  127.8888\nAge percentage  -0.0869\n-------------------\nOriginal mean age query  37.39\nMean age average  37.4084\nMean age percentage  0.0491\n-------------------\nOriginal insured query  118\nInsured average  117.5632\nInsured percentage  -0.3702\n-------------------\nOriginal heart query  41\nHeart average  41.4547\nHeart average percentage  1.1091\n-------------------\nOriginal dental query  50\nDental average  49.7228\nDental average percentage  -0.5543\n-------------------\nOriginal mental query  46\nMental average  46.2048\nMental average percentage  0.4452\n-------------------\nOriginal breathing query  63\nBreathing average  62.8969\nBreathing average percentage  -0.1637\n-------------------\nOriginal combined query  105\nCombined query average  105.1846\nCombined query average percentage  0.1758\n"
     ]
    }
   ],
   "source": [
    "experiment2(dataset_path='../../datasets/small_dataset.csv', mech_type='gaussian', epsilon=1, num_of_runs=100)"
   ]
  },
  {
   "cell_type": "code",
   "execution_count": 4,
   "metadata": {},
   "outputs": [
    {
     "output_type": "stream",
     "name": "stdout",
     "text": [
      "Original wage query  274\nWage average  273.9117\nWage percentage  -0.0322\n-------------------\nOriginal age query  659\nAge average  659.1011\nAge percentage  0.0153\n-------------------\nOriginal mean age query  38.02\nMean age average  38.0205\nMean age percentage  0.0014\n-------------------\nOriginal insured query  516\nInsured average  515.9769\nInsured percentage  -0.0045\n-------------------\nOriginal heart query  246\nHeart average  246.0842\nHeart average percentage  0.0342\n-------------------\nOriginal dental query  250\nDental average  249.7449\nDental average percentage  -0.102\n-------------------\nOriginal mental query  250\nMental average  249.9079\nMental average percentage  -0.0368\n-------------------\nOriginal breathing query  254\nBreathing average  254.176\nBreathing average percentage  0.0693\n-------------------\nOriginal combined query  366\nCombined query average  365.9696\nCombined query average percentage  -0.0083\n"
     ]
    }
   ],
   "source": [
    "experiment2(dataset_path='../../datasets/large_dataset.csv', mech_type='laplace', epsilon=1, num_of_runs=100)"
   ]
  },
  {
   "cell_type": "code",
   "execution_count": 5,
   "metadata": {},
   "outputs": [
    {
     "output_type": "stream",
     "name": "stdout",
     "text": [
      "Original wage query  274\nWage average  273.5882\nWage percentage  -0.1503\n-------------------\nOriginal age query  659\nAge average  659.0178\nAge percentage  0.0027\n-------------------\nOriginal mean age query  38.02\nMean age average  38.0423\nMean age percentage  0.0587\n-------------------\nOriginal insured query  516\nInsured average  516.3301\nInsured percentage  0.064\n-------------------\nOriginal heart query  246\nHeart average  245.7072\nHeart average percentage  -0.119\n-------------------\nOriginal dental query  250\nDental average  249.3265\nDental average percentage  -0.2694\n-------------------\nOriginal mental query  250\nMental average  249.8991\nMental average percentage  -0.0404\n-------------------\nOriginal breathing query  254\nBreathing average  254.1018\nBreathing average percentage  0.0401\n-------------------\nOriginal combined query  366\nCombined query average  366.4944\nCombined query average percentage  0.1351\n"
     ]
    }
   ],
   "source": [
    "experiment2(dataset_path='../../datasets/large_dataset.csv', mech_type='gaussian', epsilon=1, num_of_runs=100)"
   ]
  }
 ]
}